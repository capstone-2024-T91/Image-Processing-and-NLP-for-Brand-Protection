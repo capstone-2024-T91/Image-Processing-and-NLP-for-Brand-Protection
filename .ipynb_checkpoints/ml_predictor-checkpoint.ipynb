{
 "cells": [
  {
   "cell_type": "code",
   "execution_count": 2,
   "id": "ec7a355f",
   "metadata": {
    "scrolled": true
   },
   "outputs": [
    {
     "name": "stdin",
     "output_type": "stream",
     "text": [
      "Please enter the file name with the test data:  test-body.txt\n"
     ]
    },
    {
     "name": "stdout",
     "output_type": "stream",
     "text": [
      "[[0.53228078 0.46771922]]\n",
      "Model: Classifiers/AdaBoostClassifier.joblib\n",
      "Prediction: Phishing Email, Certainty: 0.5323\n"
     ]
    },
    {
     "name": "stdin",
     "output_type": "stream",
     "text": [
      "Do you think I'm right ? (y/n):  n\n"
     ]
    },
    {
     "name": "stdout",
     "output_type": "stream",
     "text": [
      "Model doesn't support partial fitting. Retraining from scratch...\n",
      "[[0.57668691 0.42331309]]\n",
      "Model: Classifiers/LogisticRegression.joblib\n",
      "Prediction: Phishing Email, Certainty: 0.5767\n"
     ]
    },
    {
     "name": "stdin",
     "output_type": "stream",
     "text": [
      "Do you think I'm right ? (y/n):  n\n"
     ]
    },
    {
     "name": "stdout",
     "output_type": "stream",
     "text": [
      "Model doesn't support partial fitting. Retraining from scratch...\n",
      "[[0.6 0.4]]\n",
      "Model: Classifiers/RandomForestClassifier.joblib\n",
      "Prediction: Phishing Email, Certainty: 0.6000\n"
     ]
    },
    {
     "name": "stdin",
     "output_type": "stream",
     "text": [
      "Do you think I'm right ? (y/n):  n\n"
     ]
    },
    {
     "name": "stdout",
     "output_type": "stream",
     "text": [
      "Model doesn't support partial fitting. Retraining from scratch...\n",
      "Model: Classifiers/SGDClassifier.joblib does not support probability estimates\n",
      "Nonetheless, the prediction is: Safe Email\n",
      "[[1. 0.]]\n",
      "Model: Classifiers/DecisionTreeClassifier.joblib\n",
      "Prediction: Phishing Email, Certainty: 1.0000\n"
     ]
    },
    {
     "name": "stdin",
     "output_type": "stream",
     "text": [
      "Do you think I'm right ? (y/n):  n\n"
     ]
    },
    {
     "name": "stdout",
     "output_type": "stream",
     "text": [
      "Model doesn't support partial fitting. Retraining from scratch...\n"
     ]
    }
   ],
   "source": [
    "import glob\n",
    "from joblib import load, dump\n",
    "import numpy as np\n",
    "import csv\n",
    "\n",
    "# Function to load text from a given file name\n",
    "def load_text_from_file(file_name):\n",
    "    with open(file_name, 'r') as file:\n",
    "        return file.read()\n",
    "\n",
    "def retrain(X_new, correct_labels, model, model_name):\n",
    "    # If the model supports partial fitting, you can update it directly\n",
    "    if hasattr(model, 'partial_fit'):\n",
    "        model.partial_fit(X_new, correct_labels)\n",
    "    else:\n",
    "        # If the model does not support partial fitting, you might need to retrain it from scratch\n",
    "        # This would involve combining the new data with the existing training data\n",
    "        # and then retraining the model\n",
    "        print(\"Model doesn't support partial fitting. Retraining from scratch...\")\n",
    "        # new_element = ['55', X_new[0], correct_labels[0]]\n",
    "        # # Open your CSV file in append mode\n",
    "        # with open('Phishing_Email.csv', 'a', newline='') as file:\n",
    "        #     writer = csv.writer(file)\n",
    "        #     # Add the new element\n",
    "        #     writer.writerow(new_element)\n",
    "        \n",
    "        pass\n",
    "\n",
    "    # Save the updated model\n",
    "    dump(model, model_name)\n",
    "\n",
    "# Get the file name from the user\n",
    "file_name = input(\"Please enter the file name with the test data: \")\n",
    "\n",
    "# Load the content of the file into 'test'\n",
    "test = [load_text_from_file(file_name)]\n",
    "\n",
    "# Load all .joblib model files\n",
    "vectorizer_files = glob.glob('Vectorizers/*_vectorizer.joblib')\n",
    "\n",
    "for vectorizer_file in vectorizer_files:\n",
    "    \n",
    "    \n",
    "    # Identify the corresponding model file\n",
    "    part_file = vectorizer_file.replace('Vectorizers', 'Classifiers')\n",
    "    model_file = part_file.replace('_vectorizer.joblib', '.joblib')\n",
    "    \n",
    "    # Load the model\n",
    "    model = load(model_file)\n",
    "    \n",
    "    # Load the vectorizer\n",
    "    vectorizer = load(vectorizer_file)\n",
    "\n",
    "    # Transform the text using the loaded vectorizer\n",
    "    test_transformed = vectorizer.transform(test)\n",
    "    \n",
    "    # Check if the model has the predict_proba method\n",
    "    if hasattr(model, 'predict_proba'):\n",
    "        # Get probabilities with the model\n",
    "        probabilities = model.predict_proba(test)\n",
    "\n",
    "        print(probabilities)\n",
    "        print(f'Model: {model_file}')\n",
    "        for i, input_string in enumerate(test):\n",
    "            max_probability = np.max(probabilities[i])\n",
    "            predicted_class = model.classes_[np.argmax(probabilities[i])]\n",
    "            print(f'Prediction: {predicted_class}, Certainty: {max_probability:.4f}')\n",
    "            users_input = input(\"Do you think I'm right ? (y/n): \")\n",
    "            if users_input == 'y':\n",
    "                correct_answer = predicted_class\n",
    "                retrain(test, [correct_answer], model, model_file)\n",
    "            else:\n",
    "                if predicted_class == \"Phishing Email\":\n",
    "                    correct_answer = \"Safe Email\"\n",
    "                else:\n",
    "                    correct_answer = \"Phishing Email\"\n",
    "                retrain(test, [correct_answer], model, model_file)\n",
    "        \n",
    "\n",
    "    else:\n",
    "        # Make predictions with the model\n",
    "        predictions = model.predict(test)\n",
    "        for i, input_string in enumerate(test):\n",
    "            print(f'Model: {model_file} does not support probability estimates')\n",
    "            print(f'Nonetheless, the prediction is: {predictions[i]}')\n",
    "        \n",
    "\n",
    "    \n"
   ]
  },
  {
   "cell_type": "code",
   "execution_count": null,
   "id": "e7b937c9-e89a-4200-bc12-cca9f2bb1c8d",
   "metadata": {},
   "outputs": [],
   "source": []
  }
 ],
 "metadata": {
  "kernelspec": {
   "display_name": "Python 3 (ipykernel)",
   "language": "python",
   "name": "python3"
  },
  "language_info": {
   "codemirror_mode": {
    "name": "ipython",
    "version": 3
   },
   "file_extension": ".py",
   "mimetype": "text/x-python",
   "name": "python",
   "nbconvert_exporter": "python",
   "pygments_lexer": "ipython3",
   "version": "3.11.7"
  }
 },
 "nbformat": 4,
 "nbformat_minor": 5
}
