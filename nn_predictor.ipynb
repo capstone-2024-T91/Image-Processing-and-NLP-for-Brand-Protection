{
 "cells": [
  {
   "cell_type": "code",
   "execution_count": 7,
   "id": "0bf23c53",
   "metadata": {},
   "outputs": [
    {
     "name": "stderr",
     "output_type": "stream",
     "text": [
      "/opt/homebrew/anaconda3/lib/python3.11/site-packages/keras/src/saving/saving_lib.py:396: UserWarning: Skipping variable loading for optimizer 'rmsprop', because it has 8 variables whereas the saved optimizer has 14 variables. \n",
      "  trackable.load_own_variables(weights_store.get(inner_path))\n"
     ]
    },
    {
     "name": "stdin",
     "output_type": "stream",
     "text": [
      "Please enter the file name with the test data:  test-body.txt\n"
     ]
    },
    {
     "name": "stdout",
     "output_type": "stream",
     "text": [
      "\u001b[1m47/47\u001b[0m \u001b[32m━━━━━━━━━━━━━━━━━━━━\u001b[0m\u001b[37m\u001b[0m \u001b[1m1s\u001b[0m 20ms/step\n"
     ]
    }
   ],
   "source": [
    "from tensorflow.keras.models import load_model\n",
    "from tensorflow.keras.preprocessing.sequence import pad_sequences\n",
    "import numpy as np\n",
    "import pickle\n",
    "\n",
    "# Function to load text from a given file name\n",
    "def load_text_from_file(file_name):\n",
    "    with open(file_name, 'r') as file:\n",
    "        return file.read()\n",
    "    \n",
    "    \n",
    "# Load the tokenizer from the file\n",
    "with open('Tokenizers/tokenizer.pickle', 'rb') as handle:\n",
    "    tokenizer = pickle.load(handle)\n",
    "    \n",
    "    \n",
    "# Load the model from the file\n",
    "model = load_model('Neural_Networks/nn_phishing_model.keras')\n",
    "\n",
    "# Get the file name from the user\n",
    "file_name = input(\"Please enter the file name with the test data: \")\n",
    "\n",
    "# Load the content of the file into 'test'\n",
    "test = load_text_from_file(file_name)\n",
    "\n",
    "\n",
    "# Assuming 'tokenizer' is the Tokenizer instance used during training\n",
    "sequences = tokenizer.texts_to_sequences(test)\n",
    "some_input_data = pad_sequences(sequences, maxlen=200)\n",
    "prediction = model.predict(some_input_data)\n",
    "# print(prediction)"
   ]
  },
  {
   "cell_type": "code",
   "execution_count": 8,
   "id": "798250ca",
   "metadata": {},
   "outputs": [
    {
     "name": "stdout",
     "output_type": "stream",
     "text": [
      "Average prediction probability: 0.68\n",
      "Average certainty of prediction: 0.42\n"
     ]
    }
   ],
   "source": [
    "average_prediction = prediction.mean()\n",
    "certainties = np.abs(prediction - 0.5) * 2  # Scale the distance from 0.5 to a [0, 1] range\n",
    "average_certainty = certainties.mean()\n",
    "\n",
    "# Print the average prediction\n",
    "print(f\"Average prediction probability: {average_prediction:.2f}\")\n",
    "# Print the average certainty\n",
    "print(f\"Average certainty of prediction: {average_certainty:.2f}\")"
   ]
  },
  {
   "cell_type": "code",
   "execution_count": null,
   "id": "91c0ce6f",
   "metadata": {},
   "outputs": [],
   "source": []
  }
 ],
 "metadata": {
  "kernelspec": {
   "display_name": "Python 3 (ipykernel)",
   "language": "python",
   "name": "python3"
  },
  "language_info": {
   "codemirror_mode": {
    "name": "ipython",
    "version": 3
   },
   "file_extension": ".py",
   "mimetype": "text/x-python",
   "name": "python",
   "nbconvert_exporter": "python",
   "pygments_lexer": "ipython3",
   "version": "3.11.7"
  }
 },
 "nbformat": 4,
 "nbformat_minor": 5
}
