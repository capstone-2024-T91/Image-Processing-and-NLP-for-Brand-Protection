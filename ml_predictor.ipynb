{
 "cells": [
  {
   "cell_type": "code",
   "execution_count": 3,
   "id": "e0fafab7",
   "metadata": {},
   "outputs": [
    {
     "name": "stdout",
     "output_type": "stream",
     "text": [
      "Model: Classifiers/AdaBoostClassifier.joblib\n",
      "Prediction: Phishing Email, Certainty: 0.5127\n",
      "Model: Classifiers/LogisticRegression.joblib\n",
      "Prediction: Phishing Email, Certainty: 0.9594\n",
      "Model: Classifiers/RandomForestClassifier.joblib\n",
      "Prediction: Phishing Email, Certainty: 0.6000\n",
      "Model: Classifiers/SGDClassifier.joblib does not support probability estimates\n",
      "Nonetheless, the prediction is: Phishing Email\n",
      "Model: Classifiers/DecisionTreeClassifier.joblib\n",
      "Prediction: Phishing Email, Certainty: 1.0000\n"
     ]
    }
   ],
   "source": [
    "import glob\n",
    "from joblib import load\n",
    "import numpy as np\n",
    "\n",
    "test = ['''\n",
    "Dear Customer,\n",
    "\n",
    "We have detected unusual activity on your account and suspect an unauthorized transaction attempt. As a precaution, we have temporarily suspended your account access.\n",
    "\n",
    "To verify your identity and reactivate your account, please click on the link below and follow the instructions:\n",
    "\n",
    "Verify My Account\n",
    "\n",
    "Failure to complete the verification within 24 hours will result in permanent account suspension.\n",
    "\n",
    "Thank you for your prompt attention to this matter.\n",
    "\n",
    "Best regards,\n",
    "Customer Support Team\n",
    "''']\n",
    "# Load all .joblib model files\n",
    "vectorizer_files = glob.glob('Vectorizers/*_vectorizer.joblib')\n",
    "\n",
    "for vectorizer_file in vectorizer_files:\n",
    "    \n",
    "    \n",
    "    # Identify the corresponding model file\n",
    "    part_file = vectorizer_file.replace('Vectorizers', 'Classifiers')\n",
    "    model_file = part_file.replace('_vectorizer.joblib', '.joblib')\n",
    "    \n",
    "    # Load the model\n",
    "    model = load(model_file)\n",
    "    \n",
    "    # Load the vectorizer\n",
    "    vectorizer = load(vectorizer_file)\n",
    "    \n",
    "    # Check if the model has the predict_proba method\n",
    "    if hasattr(model, 'predict_proba'):\n",
    "        # Make predictions with the model\n",
    "        predictions = model.predict(test)\n",
    "    \n",
    "        # Get probabilities with the model\n",
    "        probabilities = model.predict_proba(test)\n",
    "\n",
    "        print(f'Model: {model_file}')\n",
    "        for i, input_string in enumerate(test):\n",
    "            print(f'Prediction: {predictions[i]}, Certainty: {np.max(probabilities[i]):.4f}')\n",
    "    else:\n",
    "        print(f'Model: {model_file} does not support probability estimates')\n",
    "        # Make predictions with the model\n",
    "        predictions = model.predict(test)\n",
    "        for i, input_string in enumerate(test):\n",
    "            print(f'Nonetheless, the prediction is: {predictions[i]}')\n",
    "        \n",
    "\n",
    "    \n"
   ]
  },
  {
   "cell_type": "code",
   "execution_count": null,
   "id": "9167cf02",
   "metadata": {},
   "outputs": [],
   "source": []
  }
 ],
 "metadata": {
  "kernelspec": {
   "display_name": "Python 3 (ipykernel)",
   "language": "python",
   "name": "python3"
  },
  "language_info": {
   "codemirror_mode": {
    "name": "ipython",
    "version": 3
   },
   "file_extension": ".py",
   "mimetype": "text/x-python",
   "name": "python",
   "nbconvert_exporter": "python",
   "pygments_lexer": "ipython3",
   "version": "3.11.5"
  }
 },
 "nbformat": 4,
 "nbformat_minor": 5
}
