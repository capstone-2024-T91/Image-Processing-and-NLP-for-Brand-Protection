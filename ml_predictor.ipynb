{
 "cells": [
  {
   "cell_type": "code",
   "execution_count": 4,
   "id": "ec7a355f",
   "metadata": {
    "scrolled": true
   },
   "outputs": [
    {
     "name": "stdout",
     "output_type": "stream",
     "text": [
      "[[0.51265775 0.48734225]]\n",
      "Model: Classifiers/AdaBoostClassifier.joblib\n",
      "Prediction: Phishing Email, Certainty: 0.5127\n",
      "[[0.95941015 0.04058985]]\n",
      "Model: Classifiers/LogisticRegression.joblib\n",
      "Prediction: Phishing Email, Certainty: 0.9594\n",
      "[[0.6 0.4]]\n",
      "Model: Classifiers/RandomForestClassifier.joblib\n",
      "Prediction: Phishing Email, Certainty: 0.6000\n",
      "Model: Classifiers/SGDClassifier.joblib does not support probability estimates\n",
      "Nonetheless, the prediction is: Phishing Email\n",
      "[[1. 0.]]\n",
      "Model: Classifiers/DecisionTreeClassifier.joblib\n",
      "Prediction: Phishing Email, Certainty: 1.0000\n"
     ]
    }
   ],
   "source": [
    "import glob\n",
    "from joblib import load\n",
    "import numpy as np\n",
    "\n",
    "# Function to load text from a given file name\n",
    "def load_text_from_file(file_name):\n",
    "    with open(file_name, 'r') as file:\n",
    "        return file.read()\n",
    "\n",
    "# Get the file name from the user\n",
    "file_name = input(\"Please enter the file name with the test data: \")\n",
    "\n",
    "# Load the content of the file into 'test'\n",
    "test = [load_text_from_file(file_name)]\n",
    "\n",
    "# Load all .joblib model files\n",
    "vectorizer_files = glob.glob('Vectorizers/*_vectorizer.joblib')\n",
    "\n",
    "for vectorizer_file in vectorizer_files:\n",
    "    \n",
    "    \n",
    "    # Identify the corresponding model file\n",
    "    part_file = vectorizer_file.replace('Vectorizers', 'Classifiers')\n",
    "    model_file = part_file.replace('_vectorizer.joblib', '.joblib')\n",
    "    \n",
    "    # Load the model\n",
    "    model = load(model_file)\n",
    "    \n",
    "    # Load the vectorizer\n",
    "    vectorizer = load(vectorizer_file)\n",
    "\n",
    "    # Transform the text using the loaded vectorizer\n",
    "    test_transformed = vectorizer.transform(test)\n",
    "    \n",
    "    # Check if the model has the predict_proba method\n",
    "    if hasattr(model, 'predict_proba'):\n",
    "        # Get probabilities with the model\n",
    "        probabilities = model.predict_proba(test)\n",
    "\n",
    "        print(probabilities)\n",
    "        print(f'Model: {model_file}')\n",
    "        for i, input_string in enumerate(test):\n",
    "            max_probability = np.max(probabilities[i])\n",
    "            predicted_class = model.classes_[np.argmax(probabilities[i])]\n",
    "            print(f'Prediction: {predicted_class}, Certainty: {max_probability:.4f}')\n",
    "    else:\n",
    "        # Make predictions with the model\n",
    "        predictions = model.predict(test)\n",
    "        for i, input_string in enumerate(test):\n",
    "            print(f'Model: {model_file} does not support probability estimates')\n",
    "            print(f'Nonetheless, the prediction is: {predictions[i]}')\n",
    "        \n",
    "\n",
    "    \n"
   ]
  },
  {
   "cell_type": "code",
   "execution_count": null,
   "id": "290167f2",
   "metadata": {},
   "outputs": [],
   "source": []
  }
 ],
 "metadata": {
  "kernelspec": {
   "display_name": "Python 3 (ipykernel)",
   "language": "python",
   "name": "python3"
  },
  "language_info": {
   "codemirror_mode": {
    "name": "ipython",
    "version": 3
   },
   "file_extension": ".py",
   "mimetype": "text/x-python",
   "name": "python",
   "nbconvert_exporter": "python",
   "pygments_lexer": "ipython3",
   "version": "3.11.5"
  }
 },
 "nbformat": 4,
 "nbformat_minor": 5
}
