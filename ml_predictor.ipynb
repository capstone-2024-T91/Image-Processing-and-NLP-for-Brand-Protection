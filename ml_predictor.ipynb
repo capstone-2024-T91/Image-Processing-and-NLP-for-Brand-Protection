{
 "cells": [
  {
   "cell_type": "code",
   "execution_count": 6,
   "id": "ec7a355f",
   "metadata": {
    "scrolled": true
   },
   "outputs": [
    {
     "name": "stdout",
     "output_type": "stream",
     "text": [
      "Please enter the file name with the test data: test-body.txt\n",
      "Model: Classifiers/AdaBoostClassifier.joblib\n",
      "Prediction: Phishing Email, Certainty: 0.5127\n",
      "Model: Classifiers/LogisticRegression.joblib\n",
      "Prediction: Phishing Email, Certainty: 0.9594\n",
      "Model: Classifiers/RandomForestClassifier.joblib\n",
      "Prediction: Phishing Email, Certainty: 0.6000\n",
      "Model: Classifiers/SGDClassifier.joblib does not support probability estimates\n",
      "Nonetheless, the prediction is: Phishing Email\n",
      "Model: Classifiers/DecisionTreeClassifier.joblib\n",
      "Prediction: Phishing Email, Certainty: 1.0000\n"
     ]
    }
   ],
   "source": [
    "import glob\n",
    "from joblib import load\n",
    "import numpy as np\n",
    "\n",
    "# Function to load text from a given file name\n",
    "def load_text_from_file(file_name):\n",
    "    with open(file_name, 'r') as file:\n",
    "        return file.read()\n",
    "\n",
    "# Get the file name from the user\n",
    "file_name = input(\"Please enter the file name with the test data: \")\n",
    "\n",
    "# Load the content of the file into 'test'\n",
    "test = [load_text_from_file(file_name)]\n",
    "\n",
    "# Load all .joblib model files\n",
    "vectorizer_files = glob.glob('Vectorizers/*_vectorizer.joblib')\n",
    "\n",
    "for vectorizer_file in vectorizer_files:\n",
    "    \n",
    "    \n",
    "    # Identify the corresponding model file\n",
    "    part_file = vectorizer_file.replace('Vectorizers', 'Classifiers')\n",
    "    model_file = part_file.replace('_vectorizer.joblib', '.joblib')\n",
    "    \n",
    "    # Load the model\n",
    "    model = load(model_file)\n",
    "    \n",
    "    # Load the vectorizer\n",
    "    vectorizer = load(vectorizer_file)\n",
    "    \n",
    "    # Check if the model has the predict_proba method\n",
    "    if hasattr(model, 'predict_proba'):\n",
    "        # Make predictions with the model\n",
    "        predictions = model.predict(test)\n",
    "    \n",
    "        # Get probabilities with the model\n",
    "        probabilities = model.predict_proba(test)\n",
    "\n",
    "        print(f'Model: {model_file}')\n",
    "        for i, input_string in enumerate(test):\n",
    "            print(f'Prediction: {predictions[i]}, Certainty: {np.max(probabilities[i]):.4f}')\n",
    "    else:\n",
    "        print(f'Model: {model_file} does not support probability estimates')\n",
    "        # Make predictions with the model\n",
    "        predictions = model.predict(test)\n",
    "        for i, input_string in enumerate(test):\n",
    "            print(f'Nonetheless, the prediction is: {predictions[i]}')\n",
    "        \n",
    "\n",
    "    \n"
   ]
  },
  {
   "cell_type": "code",
   "execution_count": null,
   "id": "290167f2",
   "metadata": {},
   "outputs": [],
   "source": []
  }
 ],
 "metadata": {
  "kernelspec": {
   "display_name": "Python 3 (ipykernel)",
   "language": "python",
   "name": "python3"
  },
  "language_info": {
   "codemirror_mode": {
    "name": "ipython",
    "version": 3
   },
   "file_extension": ".py",
   "mimetype": "text/x-python",
   "name": "python",
   "nbconvert_exporter": "python",
   "pygments_lexer": "ipython3",
   "version": "3.11.5"
  }
 },
 "nbformat": 4,
 "nbformat_minor": 5
}
