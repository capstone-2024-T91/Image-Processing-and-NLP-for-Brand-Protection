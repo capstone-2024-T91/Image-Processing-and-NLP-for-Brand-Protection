{
 "cells": [
  {
   "cell_type": "code",
   "execution_count": 2,
   "metadata": {},
   "outputs": [],
   "source": [
    "import json\n",
    "import tiktoken # for token counting\n",
    "import numpy as np\n",
    "from collections import defaultdict\n",
    "import csv\n",
    "import sys\n",
    "import os"
   ]
  },
  {
   "cell_type": "code",
   "execution_count": 3,
   "metadata": {},
   "outputs": [],
   "source": [
    "def csv_to_jsonl(csv_file_path, jsonl_file_path):\n",
    "    \"\"\"\n",
    "    Converts a CSV file containing emails and labels to a JSONL file for LLM fine-tuning.\n",
    "\n",
    "    Args:\n",
    "        csv_file_path (str): Path to the input CSV file.\n",
    "        jsonl_file_path (str): Path to the output JSONL file.\n",
    "    \"\"\"\n",
    "    # Define the system prompt\n",
    "    system_prompt = \"You are an AI assistant specialized in email security. Determine whether an email is 'phishing' or 'safe' based on its content.\"\n",
    "\n",
    "    with open(csv_file_path, 'r', encoding='utf-8') as csv_file, \\\n",
    "         open(jsonl_file_path, 'w', encoding='utf-8') as jsonl_file:\n",
    "\n",
    "        reader = csv.DictReader(csv_file)\n",
    "        for row in reader:\n",
    "            email_body = row['body'].strip()\n",
    "            label = row['label'].strip()\n",
    "\n",
    "            # Map label to 'phishing' or 'safe'\n",
    "            if label == '1':\n",
    "                assistant_response = 'phishing'\n",
    "            elif label == '0':\n",
    "                assistant_response = 'safe'\n",
    "            else:\n",
    "                # Skip if label is invalid\n",
    "                continue\n",
    "\n",
    "            # Create the conversation\n",
    "            conversation = {\n",
    "                \"messages\": [\n",
    "                    {\n",
    "                        \"role\": \"system\",\n",
    "                        \"content\": system_prompt\n",
    "                    },\n",
    "                    {\n",
    "                        \"role\": \"user\",\n",
    "                        \"content\": email_body\n",
    "                    },\n",
    "                    {\n",
    "                        \"role\": \"assistant\",\n",
    "                        \"content\": assistant_response\n",
    "                    }\n",
    "                ]\n",
    "            }\n",
    "\n",
    "            # Write the conversation as a JSON line\n",
    "            jsonl_file.write(json.dumps(conversation) + '\\n')\n",
    "\n",
    "    print(f\"Conversion complete. Output saved to {jsonl_file_path}\")"
   ]
  },
  {
   "cell_type": "code",
   "execution_count": 6,
   "metadata": {},
   "outputs": [
    {
     "name": "stdout",
     "output_type": "stream",
     "text": [
      "Conversion complete. Output saved to /Users/youssefchouay/Programming/Image-Processing-and-NLP-for-Brand-Protection/data/local/phishing_train_2.jsonl\n"
     ]
    }
   ],
   "source": [
    "csv.field_size_limit(sys.maxsize)\n",
    "csv_file_path = '/Users/youssefchouay/Programming/Image-Processing-and-NLP-for-Brand-Protection/data/local/phishing_train_2.csv'       # Replace with your CSV file path\n",
    "jsonl_file_path = '/Users/youssefchouay/Programming/Image-Processing-and-NLP-for-Brand-Protection/data/local/phishing_train_2.jsonl'   # Replace with your desired JSONL output file path\n",
    "\n",
    "csv_to_jsonl(csv_file_path, jsonl_file_path)"
   ]
  },
  {
   "cell_type": "code",
   "execution_count": 7,
   "metadata": {},
   "outputs": [
    {
     "name": "stdout",
     "output_type": "stream",
     "text": [
      "Combining complete. Output saved to /Users/youssefchouay/Programming/Image-Processing-and-NLP-for-Brand-Protection/data/local/phishing_train.jsonl\n"
     ]
    }
   ],
   "source": [
    "# Combine both jsonl files\n",
    "jsonl_file_path_1 = '/Users/youssefchouay/Programming/Image-Processing-and-NLP-for-Brand-Protection/data/local/phishing_train_1.jsonl'\n",
    "jsonl_file_path_2 = '/Users/youssefchouay/Programming/Image-Processing-and-NLP-for-Brand-Protection/data/local/phishing_train_2.jsonl'\n",
    "combined_jsonl_file_path = '/Users/youssefchouay/Programming/Image-Processing-and-NLP-for-Brand-Protection/data/local/phishing_train.jsonl'\n",
    "\n",
    "with open(jsonl_file_path_1, 'r', encoding='utf-8') as jsonl_file_1, \\\n",
    "      open(jsonl_file_path_2, 'r', encoding='utf-8') as jsonl_file_2, \\\n",
    "      open(combined_jsonl_file_path, 'w', encoding='utf-8') as combined_jsonl_file:\n",
    "    for line in jsonl_file_1:\n",
    "        combined_jsonl_file.write(line)\n",
    "    for line in jsonl_file_2:\n",
    "        combined_jsonl_file.write(line)\n",
    "\n",
    "print(f\"Combining complete. Output saved to {combined_jsonl_file_path}\")"
   ]
  }
 ],
 "metadata": {
  "kernelspec": {
   "display_name": "venv",
   "language": "python",
   "name": "python3"
  },
  "language_info": {
   "codemirror_mode": {
    "name": "ipython",
    "version": 3
   },
   "file_extension": ".py",
   "mimetype": "text/x-python",
   "name": "python",
   "nbconvert_exporter": "python",
   "pygments_lexer": "ipython3",
   "version": "3.9.17"
  }
 },
 "nbformat": 4,
 "nbformat_minor": 2
}
