{
 "cells": [
  {
   "cell_type": "code",
   "execution_count": 14,
   "metadata": {},
   "outputs": [
    {
     "data": {
      "text/plain": [
       "FileObject(id='file-AHjnTcZU9G5IwDYLYYIJUNdf', bytes=3255008, created_at=1729743127, filename='phishing_train_10_percent.jsonl', object='file', purpose='fine-tune', status='processed', status_details=None)"
      ]
     },
     "execution_count": 14,
     "metadata": {},
     "output_type": "execute_result"
    }
   ],
   "source": [
    "from openai import OpenAI\n",
    "client = OpenAI()\n",
    "\n",
    "client.files.create(\n",
    "  file=open(\"/Users/youssefchouay/Programming/Image-Processing-and-NLP-for-Brand-Protection/data/local/phishing_train_10_percent.jsonl\", \"rb\"),\n",
    "  purpose=\"fine-tune\"\n",
    ")"
   ]
  },
  {
   "cell_type": "code",
   "execution_count": 16,
   "metadata": {},
   "outputs": [
    {
     "data": {
      "text/plain": [
       "FineTuningJob(id='ftjob-TappUIQMYabHZ1022h0tQHF0', created_at=1729743158, error=Error(code=None, message=None, param=None), fine_tuned_model=None, finished_at=None, hyperparameters=Hyperparameters(n_epochs='auto', batch_size='auto', learning_rate_multiplier='auto'), model='gpt-4o-mini-2024-07-18', object='fine_tuning.job', organization_id='org-kgtiI0UJVquPx2db56J6UDBH', result_files=[], seed=1497970253, status='validating_files', trained_tokens=None, training_file='file-AHjnTcZU9G5IwDYLYYIJUNdf', validation_file=None, estimated_finish=None, integrations=[FineTuningJobWandbIntegrationObject(type='wandb', wandb=FineTuningJobWandbIntegration(project='capstone-2024', entity=None, name=None, tags=None, run_id='ftjob-TappUIQMYabHZ1022h0tQHF0'))], user_provided_suffix=None)"
      ]
     },
     "execution_count": 16,
     "metadata": {},
     "output_type": "execute_result"
    }
   ],
   "source": [
    "client.fine_tuning.jobs.create(\n",
    "  training_file=\"file-AHjnTcZU9G5IwDYLYYIJUNdf\",\n",
    "  model=\"gpt-4o-mini-2024-07-18\",\n",
    "  integrations= [{\n",
    "        \"type\": \"wandb\",\n",
    "        \"wandb\": {\n",
    "          \"project\": \"capstone-2024\",\n",
    "          \"name\": \"openai-gpt4o-mini-finetuning\",\n",
    "          \"tags\": [\n",
    "            \"train\",\n",
    "          ]\n",
    "        }\n",
    "      }\n",
    "    ],\n",
    ")\n"
   ]
  },
  {
   "cell_type": "code",
   "execution_count": 8,
   "metadata": {},
   "outputs": [],
   "source": [
    "# List 10 fine-tuning jobs\n",
    "# client.fine_tuning.jobs.list(limit=10)"
   ]
  },
  {
   "cell_type": "code",
   "execution_count": 13,
   "metadata": {},
   "outputs": [
    {
     "data": {
      "text/plain": [
       "FineTuningJob(id='ftjob-N89q9IYcdWp5PSIk5Vkl2kPP', created_at=1729730839, error=Error(code=None, message=None, param=None), fine_tuned_model=None, finished_at=None, hyperparameters=Hyperparameters(n_epochs='auto', batch_size='auto', learning_rate_multiplier='auto'), model='gpt-4o-mini-2024-07-18', object='fine_tuning.job', organization_id='org-kgtiI0UJVquPx2db56J6UDBH', result_files=[], seed=602562549, status='validating_files', trained_tokens=None, training_file='file-VB0tkyXmSCnN856RlMavXsQn', validation_file='file-zXUIfSy5O2lwfepAsERhEQC2', estimated_finish=None, integrations=[FineTuningJobWandbIntegrationObject(type='wandb', wandb=FineTuningJobWandbIntegration(project='capstone-2024', entity=None, name=None, tags=None, run_id='ftjob-N89q9IYcdWp5PSIk5Vkl2kPP'))], user_provided_suffix=None)"
      ]
     },
     "execution_count": 13,
     "metadata": {},
     "output_type": "execute_result"
    }
   ],
   "source": [
    "client.fine_tuning.jobs.retrieve(\"ftjob-N89q9IYcdWp5PSIk5Vkl2kPP\")"
   ]
  }
 ],
 "metadata": {
  "kernelspec": {
   "display_name": "venv",
   "language": "python",
   "name": "python3"
  },
  "language_info": {
   "codemirror_mode": {
    "name": "ipython",
    "version": 3
   },
   "file_extension": ".py",
   "mimetype": "text/x-python",
   "name": "python",
   "nbconvert_exporter": "python",
   "pygments_lexer": "ipython3",
   "version": "3.9.17"
  }
 },
 "nbformat": 4,
 "nbformat_minor": 2
}
