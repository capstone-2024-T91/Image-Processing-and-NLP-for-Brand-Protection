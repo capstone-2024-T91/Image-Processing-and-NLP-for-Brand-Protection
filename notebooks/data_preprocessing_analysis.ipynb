{
 "cells": [
  {
   "cell_type": "code",
   "execution_count": 1,
   "metadata": {},
   "outputs": [],
   "source": [
    "import numpy as np\n",
    "import pandas as pd\n",
    "from sklearn.model_selection import train_test_split\n",
    "from tensorflow.keras import layers, models\n",
    "from tensorflow.keras.preprocessing.text import Tokenizer\n",
    "from tensorflow.keras.preprocessing.sequence import pad_sequences"
   ]
  },
  {
   "cell_type": "code",
   "execution_count": 10,
   "metadata": {},
   "outputs": [
    {
     "name": "stdout",
     "output_type": "stream",
     "text": [
      "sender      0\n",
      "receiver    0\n",
      "date        0\n",
      "subject     0\n",
      "body        0\n",
      "label       0\n",
      "urls        0\n",
      "dtype: int64\n"
     ]
    },
    {
     "data": {
      "text/html": [
       "<div>\n",
       "<style scoped>\n",
       "    .dataframe tbody tr th:only-of-type {\n",
       "        vertical-align: middle;\n",
       "    }\n",
       "\n",
       "    .dataframe tbody tr th {\n",
       "        vertical-align: top;\n",
       "    }\n",
       "\n",
       "    .dataframe thead th {\n",
       "        text-align: right;\n",
       "    }\n",
       "</style>\n",
       "<table border=\"1\" class=\"dataframe\">\n",
       "  <thead>\n",
       "    <tr style=\"text-align: right;\">\n",
       "      <th></th>\n",
       "      <th>sender</th>\n",
       "      <th>receiver</th>\n",
       "      <th>date</th>\n",
       "      <th>subject</th>\n",
       "      <th>body</th>\n",
       "      <th>label</th>\n",
       "      <th>urls</th>\n",
       "    </tr>\n",
       "  </thead>\n",
       "  <tbody>\n",
       "    <tr>\n",
       "      <th>0</th>\n",
       "      <td>Tomas Jacobs &lt;RickyAmes@aol.com&gt;</td>\n",
       "      <td>the00@speedy.uwaterloo.ca</td>\n",
       "      <td>Sun, 08 Apr 2007 21:00:48 +0300</td>\n",
       "      <td>Generic Cialis, branded quality@</td>\n",
       "      <td>\\n\\n\\n\\n\\n\\n\\nDo you feel the pressure to perf...</td>\n",
       "      <td>1</td>\n",
       "      <td>0.0</td>\n",
       "    </tr>\n",
       "    <tr>\n",
       "      <th>1</th>\n",
       "      <td>Yan Morin &lt;yan.morin@savoirfairelinux.com&gt;</td>\n",
       "      <td>debian-mirrors@lists.debian.org</td>\n",
       "      <td>Sun, 08 Apr 2007 12:52:30 -0400</td>\n",
       "      <td>Typo in /debian/README</td>\n",
       "      <td>Hi, i've just updated from the gulus and I che...</td>\n",
       "      <td>0</td>\n",
       "      <td>1.0</td>\n",
       "    </tr>\n",
       "    <tr>\n",
       "      <th>2</th>\n",
       "      <td>Sheila Crenshaw &lt;7stocknews@tractionmarketing....</td>\n",
       "      <td>the00@plg.uwaterloo.ca</td>\n",
       "      <td>Sun, 08 Apr 2007 17:12:19 +0000</td>\n",
       "      <td>authentic viagra</td>\n",
       "      <td>Mega  authenticV I A G R A   $ DISCOUNT priceC...</td>\n",
       "      <td>1</td>\n",
       "      <td>1.0</td>\n",
       "    </tr>\n",
       "    <tr>\n",
       "      <th>3</th>\n",
       "      <td>Stormy Dempsey &lt;vqucsmdfgvsg@ruraltek.com&gt;</td>\n",
       "      <td>opt4@speedy.uwaterloo.ca</td>\n",
       "      <td>Sun, 08 Apr 2007 17:15:47 -0100</td>\n",
       "      <td>Nice talking with ya</td>\n",
       "      <td>\\nHey Billy, \\n\\nit was really fun going out t...</td>\n",
       "      <td>1</td>\n",
       "      <td>1.0</td>\n",
       "    </tr>\n",
       "    <tr>\n",
       "      <th>4</th>\n",
       "      <td>\"Christi T. Jernigan\" &lt;dcube@totalink.net&gt;</td>\n",
       "      <td>ktwarwic@speedy.uwaterloo.ca</td>\n",
       "      <td>Sun, 08 Apr 2007 19:19:07 +0200</td>\n",
       "      <td>or trembling; stomach cramps; trouble in sleep...</td>\n",
       "      <td>\\nsystem\" of the home.  It will have the capab...</td>\n",
       "      <td>1</td>\n",
       "      <td>0.0</td>\n",
       "    </tr>\n",
       "  </tbody>\n",
       "</table>\n",
       "</div>"
      ],
      "text/plain": [
       "                                              sender  \\\n",
       "0                   Tomas Jacobs <RickyAmes@aol.com>   \n",
       "1         Yan Morin <yan.morin@savoirfairelinux.com>   \n",
       "2  Sheila Crenshaw <7stocknews@tractionmarketing....   \n",
       "3         Stormy Dempsey <vqucsmdfgvsg@ruraltek.com>   \n",
       "4         \"Christi T. Jernigan\" <dcube@totalink.net>   \n",
       "\n",
       "                          receiver                             date  \\\n",
       "0        the00@speedy.uwaterloo.ca  Sun, 08 Apr 2007 21:00:48 +0300   \n",
       "1  debian-mirrors@lists.debian.org  Sun, 08 Apr 2007 12:52:30 -0400   \n",
       "2           the00@plg.uwaterloo.ca  Sun, 08 Apr 2007 17:12:19 +0000   \n",
       "3         opt4@speedy.uwaterloo.ca  Sun, 08 Apr 2007 17:15:47 -0100   \n",
       "4     ktwarwic@speedy.uwaterloo.ca  Sun, 08 Apr 2007 19:19:07 +0200   \n",
       "\n",
       "                                             subject  \\\n",
       "0                  Generic Cialis, branded quality@    \n",
       "1                             Typo in /debian/README   \n",
       "2                                   authentic viagra   \n",
       "3                               Nice talking with ya   \n",
       "4  or trembling; stomach cramps; trouble in sleep...   \n",
       "\n",
       "                                                body  label  urls  \n",
       "0  \\n\\n\\n\\n\\n\\n\\nDo you feel the pressure to perf...      1   0.0  \n",
       "1  Hi, i've just updated from the gulus and I che...      0   1.0  \n",
       "2  Mega  authenticV I A G R A   $ DISCOUNT priceC...      1   1.0  \n",
       "3  \\nHey Billy, \\n\\nit was really fun going out t...      1   1.0  \n",
       "4  \\nsystem\" of the home.  It will have the capab...      1   0.0  "
      ]
     },
     "execution_count": 10,
     "metadata": {},
     "output_type": "execute_result"
    }
   ],
   "source": [
    "df= pd.read_csv(\"../data/raw/phishing_1.csv\")\n",
    "# Read the other files\n",
    "df2 = pd.read_csv(\"../data/raw/phishing_2.csv\")\n",
    "df3 = pd.read_csv(\"../data/raw/phishing_3.csv\")\n",
    "# Concatenate the dataframes\n",
    "df = pd.concat([df, df2, df3])\n",
    "df = df.dropna()\n",
    "print(df.isna().sum())\n",
    "df.head()"
   ]
  },
  {
   "cell_type": "code",
   "execution_count": 11,
   "metadata": {},
   "outputs": [
    {
     "name": "stdout",
     "output_type": "stream",
     "text": [
      "91737\n",
      "2\n"
     ]
    }
   ],
   "source": [
    "email_type_counts = df['body'].value_counts()\n",
    "label_counts = df['label'].value_counts()\n",
    "print(len(email_type_counts))\n",
    "print(len(label_counts))"
   ]
  },
  {
   "cell_type": "code",
   "execution_count": 12,
   "metadata": {},
   "outputs": [],
   "source": [
    "# Clean the data\n",
    "df = df.drop_duplicates()\n",
    "df = df.dropna()\n",
    "# Select the columns to keep\n",
    "df = df[['body', 'label']]\n",
    "# Save new df to csv\n",
    "# df.to_csv(\"../data/processed/phishing_train_1.csv\", index=False)"
   ]
  },
  {
   "cell_type": "code",
   "execution_count": 13,
   "metadata": {},
   "outputs": [
    {
     "name": "stdout",
     "output_type": "stream",
     "text": [
      "Unnamed: 0    0\n",
      "Email Text    0\n",
      "Email Type    0\n",
      "dtype: int64\n"
     ]
    },
    {
     "data": {
      "text/html": [
       "<div>\n",
       "<style scoped>\n",
       "    .dataframe tbody tr th:only-of-type {\n",
       "        vertical-align: middle;\n",
       "    }\n",
       "\n",
       "    .dataframe tbody tr th {\n",
       "        vertical-align: top;\n",
       "    }\n",
       "\n",
       "    .dataframe thead th {\n",
       "        text-align: right;\n",
       "    }\n",
       "</style>\n",
       "<table border=\"1\" class=\"dataframe\">\n",
       "  <thead>\n",
       "    <tr style=\"text-align: right;\">\n",
       "      <th></th>\n",
       "      <th>Unnamed: 0</th>\n",
       "      <th>Email Text</th>\n",
       "      <th>Email Type</th>\n",
       "    </tr>\n",
       "  </thead>\n",
       "  <tbody>\n",
       "    <tr>\n",
       "      <th>0</th>\n",
       "      <td>0</td>\n",
       "      <td>re : 6 . 1100 , disc : uniformitarianism , re ...</td>\n",
       "      <td>Safe Email</td>\n",
       "    </tr>\n",
       "    <tr>\n",
       "      <th>1</th>\n",
       "      <td>1</td>\n",
       "      <td>the other side of * galicismos * * galicismo *...</td>\n",
       "      <td>Safe Email</td>\n",
       "    </tr>\n",
       "    <tr>\n",
       "      <th>2</th>\n",
       "      <td>2</td>\n",
       "      <td>re : equistar deal tickets are you still avail...</td>\n",
       "      <td>Safe Email</td>\n",
       "    </tr>\n",
       "    <tr>\n",
       "      <th>3</th>\n",
       "      <td>3</td>\n",
       "      <td>\\nHello I am your hot lil horny toy.\\n    I am...</td>\n",
       "      <td>Phishing Email</td>\n",
       "    </tr>\n",
       "    <tr>\n",
       "      <th>4</th>\n",
       "      <td>4</td>\n",
       "      <td>software at incredibly low prices ( 86 % lower...</td>\n",
       "      <td>Phishing Email</td>\n",
       "    </tr>\n",
       "  </tbody>\n",
       "</table>\n",
       "</div>"
      ],
      "text/plain": [
       "   Unnamed: 0                                         Email Text  \\\n",
       "0           0  re : 6 . 1100 , disc : uniformitarianism , re ...   \n",
       "1           1  the other side of * galicismos * * galicismo *...   \n",
       "2           2  re : equistar deal tickets are you still avail...   \n",
       "3           3  \\nHello I am your hot lil horny toy.\\n    I am...   \n",
       "4           4  software at incredibly low prices ( 86 % lower...   \n",
       "\n",
       "       Email Type  \n",
       "0      Safe Email  \n",
       "1      Safe Email  \n",
       "2      Safe Email  \n",
       "3  Phishing Email  \n",
       "4  Phishing Email  "
      ]
     },
     "execution_count": 13,
     "metadata": {},
     "output_type": "execute_result"
    }
   ],
   "source": [
    "df4 = pd.read_csv(\"../data/raw/phishing_emails.csv\")\n",
    "df4 = df4.dropna()\n",
    "print(df4.isna().sum())\n",
    "df4.head()"
   ]
  },
  {
   "cell_type": "code",
   "execution_count": 14,
   "metadata": {},
   "outputs": [
    {
     "data": {
      "text/html": [
       "<div>\n",
       "<style scoped>\n",
       "    .dataframe tbody tr th:only-of-type {\n",
       "        vertical-align: middle;\n",
       "    }\n",
       "\n",
       "    .dataframe tbody tr th {\n",
       "        vertical-align: top;\n",
       "    }\n",
       "\n",
       "    .dataframe thead th {\n",
       "        text-align: right;\n",
       "    }\n",
       "</style>\n",
       "<table border=\"1\" class=\"dataframe\">\n",
       "  <thead>\n",
       "    <tr style=\"text-align: right;\">\n",
       "      <th></th>\n",
       "      <th>body</th>\n",
       "      <th>label</th>\n",
       "    </tr>\n",
       "  </thead>\n",
       "  <tbody>\n",
       "    <tr>\n",
       "      <th>0</th>\n",
       "      <td>re : 6 . 1100 , disc : uniformitarianism , re ...</td>\n",
       "      <td>Safe Email</td>\n",
       "    </tr>\n",
       "    <tr>\n",
       "      <th>1</th>\n",
       "      <td>the other side of * galicismos * * galicismo *...</td>\n",
       "      <td>Safe Email</td>\n",
       "    </tr>\n",
       "    <tr>\n",
       "      <th>2</th>\n",
       "      <td>re : equistar deal tickets are you still avail...</td>\n",
       "      <td>Safe Email</td>\n",
       "    </tr>\n",
       "    <tr>\n",
       "      <th>3</th>\n",
       "      <td>\\nHello I am your hot lil horny toy.\\n    I am...</td>\n",
       "      <td>Phishing Email</td>\n",
       "    </tr>\n",
       "    <tr>\n",
       "      <th>4</th>\n",
       "      <td>software at incredibly low prices ( 86 % lower...</td>\n",
       "      <td>Phishing Email</td>\n",
       "    </tr>\n",
       "  </tbody>\n",
       "</table>\n",
       "</div>"
      ],
      "text/plain": [
       "                                                body           label\n",
       "0  re : 6 . 1100 , disc : uniformitarianism , re ...      Safe Email\n",
       "1  the other side of * galicismos * * galicismo *...      Safe Email\n",
       "2  re : equistar deal tickets are you still avail...      Safe Email\n",
       "3  \\nHello I am your hot lil horny toy.\\n    I am...  Phishing Email\n",
       "4  software at incredibly low prices ( 86 % lower...  Phishing Email"
      ]
     },
     "execution_count": 14,
     "metadata": {},
     "output_type": "execute_result"
    }
   ],
   "source": [
    "# Select the columns to keep\n",
    "df4 = df4[['Email Text', 'Email Type']]\n",
    "# Rename the columns\n",
    "df4 = df4.rename(columns={'Email Text': 'body', 'Email Type': 'label'})\n",
    "df4.head()"
   ]
  },
  {
   "cell_type": "code",
   "execution_count": 15,
   "metadata": {},
   "outputs": [
    {
     "data": {
      "text/html": [
       "<div>\n",
       "<style scoped>\n",
       "    .dataframe tbody tr th:only-of-type {\n",
       "        vertical-align: middle;\n",
       "    }\n",
       "\n",
       "    .dataframe tbody tr th {\n",
       "        vertical-align: top;\n",
       "    }\n",
       "\n",
       "    .dataframe thead th {\n",
       "        text-align: right;\n",
       "    }\n",
       "</style>\n",
       "<table border=\"1\" class=\"dataframe\">\n",
       "  <thead>\n",
       "    <tr style=\"text-align: right;\">\n",
       "      <th></th>\n",
       "      <th>body</th>\n",
       "      <th>label</th>\n",
       "    </tr>\n",
       "  </thead>\n",
       "  <tbody>\n",
       "    <tr>\n",
       "      <th>0</th>\n",
       "      <td>re : 6 . 1100 , disc : uniformitarianism , re ...</td>\n",
       "      <td>0</td>\n",
       "    </tr>\n",
       "    <tr>\n",
       "      <th>1</th>\n",
       "      <td>the other side of * galicismos * * galicismo *...</td>\n",
       "      <td>0</td>\n",
       "    </tr>\n",
       "    <tr>\n",
       "      <th>2</th>\n",
       "      <td>re : equistar deal tickets are you still avail...</td>\n",
       "      <td>0</td>\n",
       "    </tr>\n",
       "    <tr>\n",
       "      <th>3</th>\n",
       "      <td>\\nHello I am your hot lil horny toy.\\n    I am...</td>\n",
       "      <td>1</td>\n",
       "    </tr>\n",
       "    <tr>\n",
       "      <th>4</th>\n",
       "      <td>software at incredibly low prices ( 86 % lower...</td>\n",
       "      <td>1</td>\n",
       "    </tr>\n",
       "  </tbody>\n",
       "</table>\n",
       "</div>"
      ],
      "text/plain": [
       "                                                body  label\n",
       "0  re : 6 . 1100 , disc : uniformitarianism , re ...      0\n",
       "1  the other side of * galicismos * * galicismo *...      0\n",
       "2  re : equistar deal tickets are you still avail...      0\n",
       "3  \\nHello I am your hot lil horny toy.\\n    I am...      1\n",
       "4  software at incredibly low prices ( 86 % lower...      1"
      ]
     },
     "execution_count": 15,
     "metadata": {},
     "output_type": "execute_result"
    }
   ],
   "source": [
    "# map labels to 0 and 1\n",
    "df4['label'] = df4['label'].map({'Safe Email': 0, 'Phishing Email': 1})\n",
    "df4.head()"
   ]
  },
  {
   "cell_type": "code",
   "execution_count": 17,
   "metadata": {},
   "outputs": [
    {
     "name": "stdout",
     "output_type": "stream",
     "text": [
      "Number of phishing emails: 50558\n",
      "Number of non-phishing emails: 41179\n"
     ]
    },
    {
     "data": {
      "image/png": "[encoded data removed]",
      "text/plain": [
       "<Figure size 640x480 with 1 Axes>"
      ]
     },
     "metadata": {},
     "output_type": "display_data"
    }
   ],
   "source": [
    "# Compare how many phishing emails and non-phishing emails\n",
    "phishing_emails = df[df['label'] == 1]\n",
    "non_phishing_emails = df[df['label'] == 0]\n",
    "print(f\"Number of phishing emails: {len(phishing_emails)}\")\n",
    "print(f\"Number of non-phishing emails: {len(non_phishing_emails)}\")\n",
    "# Make a pie chart of the number of phishing emails and non-phishing emails\n",
    "import matplotlib.pyplot as plt\n",
    "plt.pie(df['label'].value_counts(), labels=['Phishing Email', 'Safe Email'], autopct='%1.1f%%')\n",
    "plt.show()"
   ]
  },
  {
   "cell_type": "code",
   "execution_count": 18,
   "metadata": {},
   "outputs": [
    {
     "name": "stdout",
     "output_type": "stream",
     "text": [
      "Number of phishing emails: 7312\n",
      "Number of non-phishing emails: 11322\n"
     ]
    },
    {
     "data": {
      "image/png": "[encoded data removed]",
      "text/plain": [
       "<Figure size 640x480 with 1 Axes>"
      ]
     },
     "metadata": {},
     "output_type": "display_data"
    }
   ],
   "source": [
    "# Compare how many phishing emails and non-phishing emails\n",
    "phishing_emails = df4[df4['label'] == 1]\n",
    "non_phishing_emails = df4[df4['label'] == 0]\n",
    "print(f\"Number of phishing emails: {len(phishing_emails)}\")\n",
    "print(f\"Number of non-phishing emails: {len(non_phishing_emails)}\")\n",
    "# Make a pie chart of the number of phishing emails and non-phishing emails\n",
    "import matplotlib.pyplot as plt\n",
    "plt.pie(df4['label'].value_counts(), labels=['Phishing Email', 'Safe Email'], autopct='%1.1f%%')\n",
    "plt.show()"
   ]
  },
  {
   "cell_type": "code",
   "execution_count": 22,
   "metadata": {},
   "outputs": [
    {
     "name": "stdout",
     "output_type": "stream",
     "text": [
      "Number of training data: 90819\n",
      "Number of testing data: 918\n",
      "Number of training data: 18261\n",
      "Number of testing data: 373\n"
     ]
    }
   ],
   "source": [
    "# Seperate the data into training and testing data\n",
    "train_data, test_data = train_test_split(df, test_size=0.01, random_state=42)\n",
    "print(f\"Number of training data: {len(train_data)}\")\n",
    "print(f\"Number of testing data: {len(test_data)}\")\n",
    "\n",
    "# Save the training and testing data to csv\n",
    "train_data.to_csv(\"../data/processed/phishing_train_1.csv\", index=False)\n",
    "test_data.to_csv(\"../data/processed/phishing_test_1.csv\", index=False)\n",
    "\n",
    "train_data, test_data = train_test_split(df4, test_size=0.02, random_state=42)\n",
    "print(f\"Number of training data: {len(train_data)}\")\n",
    "print(f\"Number of testing data: {len(test_data)}\")\n",
    "# Save the training and testing data to csv\n",
    "train_data.to_csv(\"../data/processed/phishing_train_2.csv\", index=False)\n",
    "test_data.to_csv(\"../data/processed/phishing_test_2.csv\", index=False)"
   ]
  }
 ],
 "metadata": {
  "kernelspec": {
   "display_name": "Python 3",
   "language": "python",
   "name": "python3"
  },
  "language_info": {
   "codemirror_mode": {
    "name": "ipython",
    "version": 3
   },
   "file_extension": ".py",
   "mimetype": "text/x-python",
   "name": "python",
   "nbconvert_exporter": "python",
   "pygments_lexer": "ipython3",
   "version": "3.11.7"
  }
 },
 "nbformat": 4,
 "nbformat_minor": 2
}
